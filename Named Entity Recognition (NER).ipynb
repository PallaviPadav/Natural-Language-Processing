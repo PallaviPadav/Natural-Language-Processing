{
 "cells": [
  {
   "cell_type": "code",
   "execution_count": 1,
   "metadata": {},
   "outputs": [],
   "source": [
    "import spacy\n",
    "from spacy import displacy"
   ]
  },
  {
   "cell_type": "code",
   "execution_count": 4,
   "metadata": {},
   "outputs": [],
   "source": [
    "import spacy\n",
    "nlp = spacy.load(\"en_core_web_sm\")\n"
   ]
  },
  {
   "cell_type": "code",
   "execution_count": 5,
   "metadata": {},
   "outputs": [],
   "source": [
    "doc='''The World Health Organization (WHO)[1] is a specialized agency of the United Nations responsible for international public health.[2] The WHO Constitution states its main objective as 'the attainment by all peoples of the highest possible level of health'.[3] Headquartered in Geneva, Switzerland, it has six regional offices and 150 field offices worldwide. The WHO was established on 7 April 1948.[4][5] The first meeting of the World Health Assembly (WHA), the agency's governing body, took place on 24 July of that year. The WHO incorporated the assets, personnel, and duties of the League of Nations' Health Organization and the Office International d'Hygiène Publique, including the International Classification of Diseases (ICD).[6] Its work began in earnest in 1951 after a significant infusion of financial and technical resources.[7]'''"
   ]
  },
  {
   "cell_type": "code",
   "execution_count": 6,
   "metadata": {},
   "outputs": [],
   "source": [
    "def spacy_large_ner(document):\n",
    "    return {(ent.text.strip(), ent.label_) for ent in nlp(document).ents}"
   ]
  },
  {
   "cell_type": "code",
   "execution_count": 7,
   "metadata": {},
   "outputs": [
    {
     "data": {
      "text/plain": [
       "{('150', 'CARDINAL'),\n",
       " ('1951', 'DATE'),\n",
       " ('24 July of that year', 'DATE'),\n",
       " ('7 April 1948.[4][5', 'DATE'),\n",
       " ('Geneva', 'GPE'),\n",
       " ('Switzerland', 'GPE'),\n",
       " ('The World Health Organization (WHO)[1]', 'ORG'),\n",
       " ('WHA', 'ORG'),\n",
       " ('WHO', 'ORG'),\n",
       " ('first', 'ORDINAL'),\n",
       " ('six', 'CARDINAL'),\n",
       " ('the International Classification of Diseases (ICD).[6] Its', 'ORG'),\n",
       " (\"the League of Nations' Health Organization\", 'ORG'),\n",
       " (\"the Office International d'Hygiène Publique\", 'ORG'),\n",
       " ('the United Nations', 'ORG'),\n",
       " ('the World Health Assembly', 'ORG')}"
      ]
     },
     "execution_count": 7,
     "metadata": {},
     "output_type": "execute_result"
    }
   ],
   "source": [
    "spacy_large_ner(doc)"
   ]
  },
  {
   "cell_type": "code",
   "execution_count": null,
   "metadata": {},
   "outputs": [],
   "source": []
  }
 ],
 "metadata": {
  "kernelspec": {
   "display_name": "Python 3",
   "language": "python",
   "name": "python3"
  },
  "language_info": {
   "codemirror_mode": {
    "name": "ipython",
    "version": 3
   },
   "file_extension": ".py",
   "mimetype": "text/x-python",
   "name": "python",
   "nbconvert_exporter": "python",
   "pygments_lexer": "ipython3",
   "version": "3.8.3"
  }
 },
 "nbformat": 4,
 "nbformat_minor": 4
}
