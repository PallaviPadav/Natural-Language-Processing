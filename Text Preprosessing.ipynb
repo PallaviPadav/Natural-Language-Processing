{
 "cells": [
  {
   "cell_type": "code",
   "execution_count": 6,
   "metadata": {},
   "outputs": [],
   "source": [
    "import nltk\n",
    "from nltk import word_tokenize\n",
    "from nltk.corpus import stopwords\n",
    "stop_words = stopwords.words('english')"
   ]
  },
  {
   "cell_type": "code",
   "execution_count": 7,
   "metadata": {},
   "outputs": [],
   "source": [
    "import re\n",
    "import string"
   ]
  },
  {
   "cell_type": "code",
   "execution_count": 8,
   "metadata": {},
   "outputs": [],
   "source": [
    "from nltk.stem import PorterStemmer\n",
    "ps = PorterStemmer()"
   ]
  },
  {
   "cell_type": "code",
   "execution_count": 9,
   "metadata": {},
   "outputs": [],
   "source": [
    "from nltk.stem import WordNetLemmatizer\n",
    "lemmatizer = WordNetLemmatizer()"
   ]
  },
  {
   "cell_type": "code",
   "execution_count": 1,
   "metadata": {},
   "outputs": [],
   "source": [
    "from spellchecker import SpellChecker\n",
    "spell = SpellChecker()"
   ]
  },
  {
   "cell_type": "code",
   "execution_count": 1,
   "metadata": {},
   "outputs": [],
   "source": [
    "import emot"
   ]
  },
  {
   "cell_type": "code",
   "execution_count": 5,
   "metadata": {},
   "outputs": [
    {
     "name": "stdout",
     "output_type": "stream",
     "text": [
      "Collecting emoji\n",
      "  Downloading emoji-2.8.0-py2.py3-none-any.whl (358 kB)\n",
      "Installing collected packages: emoji\n",
      "Successfully installed emoji-2.8.0\n",
      "Note: you may need to restart the kernel to use updated packages.\n"
     ]
    }
   ],
   "source": [
    "pip install emoji"
   ]
  },
  {
   "cell_type": "code",
   "execution_count": 1,
   "metadata": {},
   "outputs": [],
   "source": [
    "import emoji"
   ]
  },
  {
   "cell_type": "code",
   "execution_count": 3,
   "metadata": {},
   "outputs": [],
   "source": [
    "corpus_data = '''The Wrld Halth Oganization (WHO)[1] is a specialized agency of the United Nations responsible for international public health.[2] The WHO Constitution states its main objective as 'the attainment by all peoples of the highest possible level of health'.[3] Headquartered in Geneva, Switzerland, it has six regional offices and 150 field offices worldwide. The WHO was established on 7 April 1948.[4][5] The first meeting of the World Health Assembly (WHA), the agency's governing body, took place on 24 July of that year. The WHO incorporated the assets, personnel, and duties of the League of Nations' Health Organization and the Office International d'Hygiène Publique, including the International Classification of Diseases (ICD).[6] Its work began in earnest in 1951 after a significant infusion of financial and technical resources.[7]'''"
   ]
  },
  {
   "cell_type": "code",
   "execution_count": 4,
   "metadata": {},
   "outputs": [
    {
     "data": {
      "text/plain": [
       "\"The Wrld Halth Oganization (WHO)[1] is a specialized agency of the United Nations responsible for international public health.[2] The WHO Constitution states its main objective as 'the attainment by all peoples of the highest possible level of health'.[3] Headquartered in Geneva, Switzerland, it has six regional offices and 150 field offices worldwide. The WHO was established on 7 April 1948.[4][5] The first meeting of the World Health Assembly (WHA), the agency's governing body, took place on 24 July of that year. The WHO incorporated the assets, personnel, and duties of the League of Nations' Health Organization and the Office International d'Hygiène Publique, including the International Classification of Diseases (ICD).[6] Its work began in earnest in 1951 after a significant infusion of financial and technical resources.[7]\""
      ]
     },
     "execution_count": 4,
     "metadata": {},
     "output_type": "execute_result"
    }
   ],
   "source": [
    "corpus_data"
   ]
  },
  {
   "cell_type": "code",
   "execution_count": null,
   "metadata": {},
   "outputs": [],
   "source": []
  },
  {
   "cell_type": "markdown",
   "metadata": {},
   "source": [
    "## Segmentation \n",
    "- Split the corpus into sentence"
   ]
  },
  {
   "cell_type": "code",
   "execution_count": 10,
   "metadata": {},
   "outputs": [
    {
     "name": "stdout",
     "output_type": "stream",
     "text": [
      "['The Wrld Halth Oganization (WHO)[1] is a specialized agency of the United Nations responsible for international public health.', \"[2] The WHO Constitution states its main objective as 'the attainment by all peoples of the highest possible level of health'.\", '[3] Headquartered in Geneva, Switzerland, it has six regional offices and 150 field offices worldwide.', 'The WHO was established on 7 April 1948.', \"[4][5] The first meeting of the World Health Assembly (WHA), the agency's governing body, took place on 24 July of that year.\", \"The WHO incorporated the assets, personnel, and duties of the League of Nations' Health Organization and the Office International d'Hygiène Publique, including the International Classification of Diseases (ICD).\", '[6] Its work began in earnest in 1951 after a significant infusion of financial and technical resources.', '[7]']\n"
     ]
    }
   ],
   "source": [
    "st_tk = nltk.sent_tokenize(corpus_data)\n",
    "print(st_tk)"
   ]
  },
  {
   "cell_type": "code",
   "execution_count": 11,
   "metadata": {},
   "outputs": [
    {
     "data": {
      "text/plain": [
       "'The Wrld Halth Oganization (WHO)[1] is a specialized agency of the United Nations responsible for international public health.'"
      ]
     },
     "execution_count": 11,
     "metadata": {},
     "output_type": "execute_result"
    }
   ],
   "source": [
    "st_tk[0]"
   ]
  },
  {
   "cell_type": "code",
   "execution_count": 12,
   "metadata": {},
   "outputs": [
    {
     "data": {
      "text/plain": [
       "list"
      ]
     },
     "execution_count": 12,
     "metadata": {},
     "output_type": "execute_result"
    }
   ],
   "source": [
    "type(st_tk)"
   ]
  },
  {
   "cell_type": "markdown",
   "metadata": {},
   "source": [
    "# Tokenisation"
   ]
  },
  {
   "cell_type": "code",
   "execution_count": 13,
   "metadata": {},
   "outputs": [
    {
     "name": "stdout",
     "output_type": "stream",
     "text": [
      "['The', 'Wrld', 'Halth', 'Oganization', '(', 'WHO', ')', '[', '1', ']', 'is', 'a', 'specialized', 'agency', 'of', 'the', 'United', 'Nations', 'responsible', 'for', 'international', 'public', 'health', '.', '[', '2', ']', 'The', 'WHO', 'Constitution', 'states', 'its', 'main', 'objective', 'as', \"'the\", 'attainment', 'by', 'all', 'peoples', 'of', 'the', 'highest', 'possible', 'level', 'of', 'health', \"'\", '.', '[', '3', ']', 'Headquartered', 'in', 'Geneva', ',', 'Switzerland', ',', 'it', 'has', 'six', 'regional', 'offices', 'and', '150', 'field', 'offices', 'worldwide', '.', 'The', 'WHO', 'was', 'established', 'on', '7', 'April', '1948', '.', '[', '4', ']', '[', '5', ']', 'The', 'first', 'meeting', 'of', 'the', 'World', 'Health', 'Assembly', '(', 'WHA', ')', ',', 'the', 'agency', \"'s\", 'governing', 'body', ',', 'took', 'place', 'on', '24', 'July', 'of', 'that', 'year', '.', 'The', 'WHO', 'incorporated', 'the', 'assets', ',', 'personnel', ',', 'and', 'duties', 'of', 'the', 'League', 'of', 'Nations', \"'\", 'Health', 'Organization', 'and', 'the', 'Office', 'International', \"d'Hygiène\", 'Publique', ',', 'including', 'the', 'International', 'Classification', 'of', 'Diseases', '(', 'ICD', ')', '.', '[', '6', ']', 'Its', 'work', 'began', 'in', 'earnest', 'in', '1951', 'after', 'a', 'significant', 'infusion', 'of', 'financial', 'and', 'technical', 'resources', '.', '[', '7', ']']\n"
     ]
    }
   ],
   "source": [
    "wr_tk = nltk.word_tokenize(corpus_data)\n",
    "print(wr_tk)"
   ]
  },
  {
   "cell_type": "markdown",
   "metadata": {},
   "source": [
    "# Removal of punctuation"
   ]
  },
  {
   "cell_type": "code",
   "execution_count": 15,
   "metadata": {},
   "outputs": [],
   "source": [
    "wr_tk_punct = [''.join(char for char in item\n",
    "                    if char not in string.punctuation)\n",
    "              for item in wr_tk]"
   ]
  },
  {
   "cell_type": "code",
   "execution_count": 16,
   "metadata": {},
   "outputs": [
    {
     "data": {
      "text/plain": [
       "['The',\n",
       " 'Wrld',\n",
       " 'Halth',\n",
       " 'Oganization',\n",
       " '',\n",
       " 'WHO',\n",
       " '',\n",
       " '',\n",
       " '1',\n",
       " '',\n",
       " 'is',\n",
       " 'a',\n",
       " 'specialized',\n",
       " 'agency',\n",
       " 'of',\n",
       " 'the',\n",
       " 'United',\n",
       " 'Nations',\n",
       " 'responsible',\n",
       " 'for',\n",
       " 'international',\n",
       " 'public',\n",
       " 'health',\n",
       " '',\n",
       " '',\n",
       " '2',\n",
       " '',\n",
       " 'The',\n",
       " 'WHO',\n",
       " 'Constitution',\n",
       " 'states',\n",
       " 'its',\n",
       " 'main',\n",
       " 'objective',\n",
       " 'as',\n",
       " 'the',\n",
       " 'attainment',\n",
       " 'by',\n",
       " 'all',\n",
       " 'peoples',\n",
       " 'of',\n",
       " 'the',\n",
       " 'highest',\n",
       " 'possible',\n",
       " 'level',\n",
       " 'of',\n",
       " 'health',\n",
       " '',\n",
       " '',\n",
       " '',\n",
       " '3',\n",
       " '',\n",
       " 'Headquartered',\n",
       " 'in',\n",
       " 'Geneva',\n",
       " '',\n",
       " 'Switzerland',\n",
       " '',\n",
       " 'it',\n",
       " 'has',\n",
       " 'six',\n",
       " 'regional',\n",
       " 'offices',\n",
       " 'and',\n",
       " '150',\n",
       " 'field',\n",
       " 'offices',\n",
       " 'worldwide',\n",
       " '',\n",
       " 'The',\n",
       " 'WHO',\n",
       " 'was',\n",
       " 'established',\n",
       " 'on',\n",
       " '7',\n",
       " 'April',\n",
       " '1948',\n",
       " '',\n",
       " '',\n",
       " '4',\n",
       " '',\n",
       " '',\n",
       " '5',\n",
       " '',\n",
       " 'The',\n",
       " 'first',\n",
       " 'meeting',\n",
       " 'of',\n",
       " 'the',\n",
       " 'World',\n",
       " 'Health',\n",
       " 'Assembly',\n",
       " '',\n",
       " 'WHA',\n",
       " '',\n",
       " '',\n",
       " 'the',\n",
       " 'agency',\n",
       " 's',\n",
       " 'governing',\n",
       " 'body',\n",
       " '',\n",
       " 'took',\n",
       " 'place',\n",
       " 'on',\n",
       " '24',\n",
       " 'July',\n",
       " 'of',\n",
       " 'that',\n",
       " 'year',\n",
       " '',\n",
       " 'The',\n",
       " 'WHO',\n",
       " 'incorporated',\n",
       " 'the',\n",
       " 'assets',\n",
       " '',\n",
       " 'personnel',\n",
       " '',\n",
       " 'and',\n",
       " 'duties',\n",
       " 'of',\n",
       " 'the',\n",
       " 'League',\n",
       " 'of',\n",
       " 'Nations',\n",
       " '',\n",
       " 'Health',\n",
       " 'Organization',\n",
       " 'and',\n",
       " 'the',\n",
       " 'Office',\n",
       " 'International',\n",
       " 'dHygiène',\n",
       " 'Publique',\n",
       " '',\n",
       " 'including',\n",
       " 'the',\n",
       " 'International',\n",
       " 'Classification',\n",
       " 'of',\n",
       " 'Diseases',\n",
       " '',\n",
       " 'ICD',\n",
       " '',\n",
       " '',\n",
       " '',\n",
       " '6',\n",
       " '',\n",
       " 'Its',\n",
       " 'work',\n",
       " 'began',\n",
       " 'in',\n",
       " 'earnest',\n",
       " 'in',\n",
       " '1951',\n",
       " 'after',\n",
       " 'a',\n",
       " 'significant',\n",
       " 'infusion',\n",
       " 'of',\n",
       " 'financial',\n",
       " 'and',\n",
       " 'technical',\n",
       " 'resources',\n",
       " '',\n",
       " '',\n",
       " '7',\n",
       " '']"
      ]
     },
     "execution_count": 16,
     "metadata": {},
     "output_type": "execute_result"
    }
   ],
   "source": [
    "wr_tk_punct"
   ]
  },
  {
   "cell_type": "code",
   "execution_count": 17,
   "metadata": {},
   "outputs": [],
   "source": [
    "wr_tk_r_punct_alp = [''.join(char for char in item if char.isalpha()) for item in wr_tk_punct]"
   ]
  },
  {
   "cell_type": "code",
   "execution_count": 18,
   "metadata": {},
   "outputs": [
    {
     "data": {
      "text/plain": [
       "['The',\n",
       " 'Wrld',\n",
       " 'Halth',\n",
       " 'Oganization',\n",
       " '',\n",
       " 'WHO',\n",
       " '',\n",
       " '',\n",
       " '',\n",
       " '',\n",
       " 'is',\n",
       " 'a',\n",
       " 'specialized',\n",
       " 'agency',\n",
       " 'of',\n",
       " 'the',\n",
       " 'United',\n",
       " 'Nations',\n",
       " 'responsible',\n",
       " 'for',\n",
       " 'international',\n",
       " 'public',\n",
       " 'health',\n",
       " '',\n",
       " '',\n",
       " '',\n",
       " '',\n",
       " 'The',\n",
       " 'WHO',\n",
       " 'Constitution',\n",
       " 'states',\n",
       " 'its',\n",
       " 'main',\n",
       " 'objective',\n",
       " 'as',\n",
       " 'the',\n",
       " 'attainment',\n",
       " 'by',\n",
       " 'all',\n",
       " 'peoples',\n",
       " 'of',\n",
       " 'the',\n",
       " 'highest',\n",
       " 'possible',\n",
       " 'level',\n",
       " 'of',\n",
       " 'health',\n",
       " '',\n",
       " '',\n",
       " '',\n",
       " '',\n",
       " '',\n",
       " 'Headquartered',\n",
       " 'in',\n",
       " 'Geneva',\n",
       " '',\n",
       " 'Switzerland',\n",
       " '',\n",
       " 'it',\n",
       " 'has',\n",
       " 'six',\n",
       " 'regional',\n",
       " 'offices',\n",
       " 'and',\n",
       " '',\n",
       " 'field',\n",
       " 'offices',\n",
       " 'worldwide',\n",
       " '',\n",
       " 'The',\n",
       " 'WHO',\n",
       " 'was',\n",
       " 'established',\n",
       " 'on',\n",
       " '',\n",
       " 'April',\n",
       " '',\n",
       " '',\n",
       " '',\n",
       " '',\n",
       " '',\n",
       " '',\n",
       " '',\n",
       " '',\n",
       " 'The',\n",
       " 'first',\n",
       " 'meeting',\n",
       " 'of',\n",
       " 'the',\n",
       " 'World',\n",
       " 'Health',\n",
       " 'Assembly',\n",
       " '',\n",
       " 'WHA',\n",
       " '',\n",
       " '',\n",
       " 'the',\n",
       " 'agency',\n",
       " 's',\n",
       " 'governing',\n",
       " 'body',\n",
       " '',\n",
       " 'took',\n",
       " 'place',\n",
       " 'on',\n",
       " '',\n",
       " 'July',\n",
       " 'of',\n",
       " 'that',\n",
       " 'year',\n",
       " '',\n",
       " 'The',\n",
       " 'WHO',\n",
       " 'incorporated',\n",
       " 'the',\n",
       " 'assets',\n",
       " '',\n",
       " 'personnel',\n",
       " '',\n",
       " 'and',\n",
       " 'duties',\n",
       " 'of',\n",
       " 'the',\n",
       " 'League',\n",
       " 'of',\n",
       " 'Nations',\n",
       " '',\n",
       " 'Health',\n",
       " 'Organization',\n",
       " 'and',\n",
       " 'the',\n",
       " 'Office',\n",
       " 'International',\n",
       " 'dHygiène',\n",
       " 'Publique',\n",
       " '',\n",
       " 'including',\n",
       " 'the',\n",
       " 'International',\n",
       " 'Classification',\n",
       " 'of',\n",
       " 'Diseases',\n",
       " '',\n",
       " 'ICD',\n",
       " '',\n",
       " '',\n",
       " '',\n",
       " '',\n",
       " '',\n",
       " 'Its',\n",
       " 'work',\n",
       " 'began',\n",
       " 'in',\n",
       " 'earnest',\n",
       " 'in',\n",
       " '',\n",
       " 'after',\n",
       " 'a',\n",
       " 'significant',\n",
       " 'infusion',\n",
       " 'of',\n",
       " 'financial',\n",
       " 'and',\n",
       " 'technical',\n",
       " 'resources',\n",
       " '',\n",
       " '',\n",
       " '',\n",
       " '']"
      ]
     },
     "execution_count": 18,
     "metadata": {},
     "output_type": "execute_result"
    }
   ],
   "source": [
    "wr_tk_r_punct_alp"
   ]
  },
  {
   "cell_type": "markdown",
   "metadata": {},
   "source": [
    "# Removal of empty string from the list"
   ]
  },
  {
   "cell_type": "code",
   "execution_count": 19,
   "metadata": {},
   "outputs": [],
   "source": [
    "wr_tk_r_punct_alp_bl = [i for i in wr_tk_r_punct_alp if i]"
   ]
  },
  {
   "cell_type": "code",
   "execution_count": 20,
   "metadata": {},
   "outputs": [
    {
     "data": {
      "text/plain": [
       "['The',\n",
       " 'Wrld',\n",
       " 'Halth',\n",
       " 'Oganization',\n",
       " 'WHO',\n",
       " 'is',\n",
       " 'a',\n",
       " 'specialized',\n",
       " 'agency',\n",
       " 'of',\n",
       " 'the',\n",
       " 'United',\n",
       " 'Nations',\n",
       " 'responsible',\n",
       " 'for',\n",
       " 'international',\n",
       " 'public',\n",
       " 'health',\n",
       " 'The',\n",
       " 'WHO',\n",
       " 'Constitution',\n",
       " 'states',\n",
       " 'its',\n",
       " 'main',\n",
       " 'objective',\n",
       " 'as',\n",
       " 'the',\n",
       " 'attainment',\n",
       " 'by',\n",
       " 'all',\n",
       " 'peoples',\n",
       " 'of',\n",
       " 'the',\n",
       " 'highest',\n",
       " 'possible',\n",
       " 'level',\n",
       " 'of',\n",
       " 'health',\n",
       " 'Headquartered',\n",
       " 'in',\n",
       " 'Geneva',\n",
       " 'Switzerland',\n",
       " 'it',\n",
       " 'has',\n",
       " 'six',\n",
       " 'regional',\n",
       " 'offices',\n",
       " 'and',\n",
       " 'field',\n",
       " 'offices',\n",
       " 'worldwide',\n",
       " 'The',\n",
       " 'WHO',\n",
       " 'was',\n",
       " 'established',\n",
       " 'on',\n",
       " 'April',\n",
       " 'The',\n",
       " 'first',\n",
       " 'meeting',\n",
       " 'of',\n",
       " 'the',\n",
       " 'World',\n",
       " 'Health',\n",
       " 'Assembly',\n",
       " 'WHA',\n",
       " 'the',\n",
       " 'agency',\n",
       " 's',\n",
       " 'governing',\n",
       " 'body',\n",
       " 'took',\n",
       " 'place',\n",
       " 'on',\n",
       " 'July',\n",
       " 'of',\n",
       " 'that',\n",
       " 'year',\n",
       " 'The',\n",
       " 'WHO',\n",
       " 'incorporated',\n",
       " 'the',\n",
       " 'assets',\n",
       " 'personnel',\n",
       " 'and',\n",
       " 'duties',\n",
       " 'of',\n",
       " 'the',\n",
       " 'League',\n",
       " 'of',\n",
       " 'Nations',\n",
       " 'Health',\n",
       " 'Organization',\n",
       " 'and',\n",
       " 'the',\n",
       " 'Office',\n",
       " 'International',\n",
       " 'dHygiène',\n",
       " 'Publique',\n",
       " 'including',\n",
       " 'the',\n",
       " 'International',\n",
       " 'Classification',\n",
       " 'of',\n",
       " 'Diseases',\n",
       " 'ICD',\n",
       " 'Its',\n",
       " 'work',\n",
       " 'began',\n",
       " 'in',\n",
       " 'earnest',\n",
       " 'in',\n",
       " 'after',\n",
       " 'a',\n",
       " 'significant',\n",
       " 'infusion',\n",
       " 'of',\n",
       " 'financial',\n",
       " 'and',\n",
       " 'technical',\n",
       " 'resources']"
      ]
     },
     "execution_count": 20,
     "metadata": {},
     "output_type": "execute_result"
    }
   ],
   "source": [
    "wr_tk_r_punct_alp_bl"
   ]
  },
  {
   "cell_type": "markdown",
   "metadata": {},
   "source": [
    "# Removal of stop words"
   ]
  },
  {
   "cell_type": "code",
   "execution_count": 21,
   "metadata": {},
   "outputs": [],
   "source": [
    "wr_tk_r_punct_alp_bl_sw = [item for item in wr_tk_r_punct_alp_bl if item not in stopwords.words(\"english\")]"
   ]
  },
  {
   "cell_type": "code",
   "execution_count": 22,
   "metadata": {},
   "outputs": [
    {
     "data": {
      "text/plain": [
       "['The',\n",
       " 'Wrld',\n",
       " 'Halth',\n",
       " 'Oganization',\n",
       " 'WHO',\n",
       " 'specialized',\n",
       " 'agency',\n",
       " 'United',\n",
       " 'Nations',\n",
       " 'responsible',\n",
       " 'international',\n",
       " 'public',\n",
       " 'health',\n",
       " 'The',\n",
       " 'WHO',\n",
       " 'Constitution',\n",
       " 'states',\n",
       " 'main',\n",
       " 'objective',\n",
       " 'attainment',\n",
       " 'peoples',\n",
       " 'highest',\n",
       " 'possible',\n",
       " 'level',\n",
       " 'health',\n",
       " 'Headquartered',\n",
       " 'Geneva',\n",
       " 'Switzerland',\n",
       " 'six',\n",
       " 'regional',\n",
       " 'offices',\n",
       " 'field',\n",
       " 'offices',\n",
       " 'worldwide',\n",
       " 'The',\n",
       " 'WHO',\n",
       " 'established',\n",
       " 'April',\n",
       " 'The',\n",
       " 'first',\n",
       " 'meeting',\n",
       " 'World',\n",
       " 'Health',\n",
       " 'Assembly',\n",
       " 'WHA',\n",
       " 'agency',\n",
       " 'governing',\n",
       " 'body',\n",
       " 'took',\n",
       " 'place',\n",
       " 'July',\n",
       " 'year',\n",
       " 'The',\n",
       " 'WHO',\n",
       " 'incorporated',\n",
       " 'assets',\n",
       " 'personnel',\n",
       " 'duties',\n",
       " 'League',\n",
       " 'Nations',\n",
       " 'Health',\n",
       " 'Organization',\n",
       " 'Office',\n",
       " 'International',\n",
       " 'dHygiène',\n",
       " 'Publique',\n",
       " 'including',\n",
       " 'International',\n",
       " 'Classification',\n",
       " 'Diseases',\n",
       " 'ICD',\n",
       " 'Its',\n",
       " 'work',\n",
       " 'began',\n",
       " 'earnest',\n",
       " 'significant',\n",
       " 'infusion',\n",
       " 'financial',\n",
       " 'technical',\n",
       " 'resources']"
      ]
     },
     "execution_count": 22,
     "metadata": {},
     "output_type": "execute_result"
    }
   ],
   "source": [
    "wr_tk_r_punct_alp_bl_sw"
   ]
  },
  {
   "cell_type": "markdown",
   "metadata": {},
   "source": [
    "# Spell check"
   ]
  },
  {
   "cell_type": "code",
   "execution_count": 23,
   "metadata": {},
   "outputs": [
    {
     "data": {
      "text/plain": [
       "['The',\n",
       " 'world',\n",
       " 'health',\n",
       " 'organization',\n",
       " 'WHO',\n",
       " 'specialized',\n",
       " 'agency',\n",
       " 'United',\n",
       " 'Nations',\n",
       " 'responsible',\n",
       " 'international',\n",
       " 'public',\n",
       " 'health',\n",
       " 'The',\n",
       " 'WHO',\n",
       " 'Constitution',\n",
       " 'states',\n",
       " 'main',\n",
       " 'objective',\n",
       " 'attainment',\n",
       " 'peoples',\n",
       " 'highest',\n",
       " 'possible',\n",
       " 'level',\n",
       " 'health',\n",
       " 'Headquartered',\n",
       " 'Geneva',\n",
       " 'Switzerland',\n",
       " 'six',\n",
       " 'regional',\n",
       " 'offices',\n",
       " 'field',\n",
       " 'offices',\n",
       " 'worldwide',\n",
       " 'The',\n",
       " 'WHO',\n",
       " 'established',\n",
       " 'April',\n",
       " 'The',\n",
       " 'first',\n",
       " 'meeting',\n",
       " 'World',\n",
       " 'Health',\n",
       " 'Assembly',\n",
       " 'WHA',\n",
       " 'agency',\n",
       " 'governing',\n",
       " 'body',\n",
       " 'took',\n",
       " 'place',\n",
       " 'July',\n",
       " 'year',\n",
       " 'The',\n",
       " 'WHO',\n",
       " 'incorporated',\n",
       " 'assets',\n",
       " 'personnel',\n",
       " 'duties',\n",
       " 'League',\n",
       " 'Nations',\n",
       " 'Health',\n",
       " 'Organization',\n",
       " 'Office',\n",
       " 'International',\n",
       " 'hygiene',\n",
       " 'oblique',\n",
       " 'including',\n",
       " 'International',\n",
       " 'Classification',\n",
       " 'Diseases',\n",
       " 'ice',\n",
       " 'Its',\n",
       " 'work',\n",
       " 'began',\n",
       " 'earnest',\n",
       " 'significant',\n",
       " 'infusion',\n",
       " 'financial',\n",
       " 'technical',\n",
       " 'resources']"
      ]
     },
     "execution_count": 23,
     "metadata": {},
     "output_type": "execute_result"
    }
   ],
   "source": [
    "wr_tk_r_punct_alp_bl_sw = [''.join(spell.correction(item)) for item in wr_tk_r_punct_alp_bl_sw]\n",
    "wr_tk_r_punct_alp_bl_sw"
   ]
  },
  {
   "cell_type": "markdown",
   "metadata": {},
   "source": [
    "# Stemming"
   ]
  },
  {
   "cell_type": "code",
   "execution_count": 71,
   "metadata": {},
   "outputs": [],
   "source": [
    "\n",
    "stem = [''.join(ps.stem(item)) for item in wr_tk_r_punct_alp_bl_sw]"
   ]
  },
  {
   "cell_type": "code",
   "execution_count": 72,
   "metadata": {},
   "outputs": [
    {
     "data": {
      "text/plain": [
       "['the',\n",
       " 'world',\n",
       " 'health',\n",
       " 'organ',\n",
       " 'who',\n",
       " 'special',\n",
       " 'agenc',\n",
       " 'unit',\n",
       " 'nation',\n",
       " 'respons',\n",
       " 'intern',\n",
       " 'public',\n",
       " 'health',\n",
       " 'the',\n",
       " 'who',\n",
       " 'constitut',\n",
       " 'state',\n",
       " 'main',\n",
       " 'object',\n",
       " 'attain',\n",
       " 'peopl',\n",
       " 'highest',\n",
       " 'possibl',\n",
       " 'level',\n",
       " 'health',\n",
       " 'headquart',\n",
       " 'geneva',\n",
       " 'switzerland',\n",
       " 'six',\n",
       " 'region',\n",
       " 'offic',\n",
       " 'field',\n",
       " 'offic',\n",
       " 'worldwid',\n",
       " 'the',\n",
       " 'who',\n",
       " 'establish',\n",
       " 'april',\n",
       " 'the',\n",
       " 'first',\n",
       " 'meet',\n",
       " 'world',\n",
       " 'health',\n",
       " 'assembl',\n",
       " 'wha',\n",
       " 'agenc',\n",
       " 'govern',\n",
       " 'bodi',\n",
       " 'took',\n",
       " 'place',\n",
       " 'juli',\n",
       " 'year',\n",
       " 'the',\n",
       " 'who',\n",
       " 'incorpor',\n",
       " 'asset',\n",
       " 'personnel',\n",
       " 'duti',\n",
       " 'leagu',\n",
       " 'nation',\n",
       " 'health',\n",
       " 'organ',\n",
       " 'offic',\n",
       " 'intern',\n",
       " 'dhygièn',\n",
       " 'publiqu',\n",
       " 'includ',\n",
       " 'intern',\n",
       " 'classif',\n",
       " 'diseas',\n",
       " 'icd',\n",
       " 'it',\n",
       " 'work',\n",
       " 'began',\n",
       " 'earnest',\n",
       " 'signific',\n",
       " 'infus',\n",
       " 'financi',\n",
       " 'technic',\n",
       " 'resourc']"
      ]
     },
     "execution_count": 72,
     "metadata": {},
     "output_type": "execute_result"
    }
   ],
   "source": [
    "stem"
   ]
  },
  {
   "cell_type": "markdown",
   "metadata": {},
   "source": [
    "# Lemmatization"
   ]
  },
  {
   "cell_type": "code",
   "execution_count": 79,
   "metadata": {},
   "outputs": [],
   "source": [
    "lem = [''.join(lemmatizer.lemmatize(item)) for item in wr_tk_r_punct_alp_bl_sw]"
   ]
  },
  {
   "cell_type": "code",
   "execution_count": 80,
   "metadata": {},
   "outputs": [
    {
     "data": {
      "text/plain": [
       "['The',\n",
       " 'World',\n",
       " 'Health',\n",
       " 'Organization',\n",
       " 'WHO',\n",
       " 'specialized',\n",
       " 'agency',\n",
       " 'United',\n",
       " 'Nations',\n",
       " 'responsible',\n",
       " 'international',\n",
       " 'public',\n",
       " 'health',\n",
       " 'The',\n",
       " 'WHO',\n",
       " 'Constitution',\n",
       " 'state',\n",
       " 'main',\n",
       " 'objective',\n",
       " 'attainment',\n",
       " 'people',\n",
       " 'highest',\n",
       " 'possible',\n",
       " 'level',\n",
       " 'health',\n",
       " 'Headquartered',\n",
       " 'Geneva',\n",
       " 'Switzerland',\n",
       " 'six',\n",
       " 'regional',\n",
       " 'office',\n",
       " 'field',\n",
       " 'office',\n",
       " 'worldwide',\n",
       " 'The',\n",
       " 'WHO',\n",
       " 'established',\n",
       " 'April',\n",
       " 'The',\n",
       " 'first',\n",
       " 'meeting',\n",
       " 'World',\n",
       " 'Health',\n",
       " 'Assembly',\n",
       " 'WHA',\n",
       " 'agency',\n",
       " 'governing',\n",
       " 'body',\n",
       " 'took',\n",
       " 'place',\n",
       " 'July',\n",
       " 'year',\n",
       " 'The',\n",
       " 'WHO',\n",
       " 'incorporated',\n",
       " 'asset',\n",
       " 'personnel',\n",
       " 'duty',\n",
       " 'League',\n",
       " 'Nations',\n",
       " 'Health',\n",
       " 'Organization',\n",
       " 'Office',\n",
       " 'International',\n",
       " 'dHygiène',\n",
       " 'Publique',\n",
       " 'including',\n",
       " 'International',\n",
       " 'Classification',\n",
       " 'Diseases',\n",
       " 'ICD',\n",
       " 'Its',\n",
       " 'work',\n",
       " 'began',\n",
       " 'earnest',\n",
       " 'significant',\n",
       " 'infusion',\n",
       " 'financial',\n",
       " 'technical',\n",
       " 'resource']"
      ]
     },
     "execution_count": 80,
     "metadata": {},
     "output_type": "execute_result"
    }
   ],
   "source": [
    "lem"
   ]
  },
  {
   "cell_type": "code",
   "execution_count": 81,
   "metadata": {},
   "outputs": [],
   "source": [
    "tagged = nltk.pos_tag(lem)"
   ]
  },
  {
   "cell_type": "code",
   "execution_count": 82,
   "metadata": {},
   "outputs": [
    {
     "data": {
      "text/plain": [
       "[('The', 'DT'),\n",
       " ('World', 'NNP'),\n",
       " ('Health', 'NNP'),\n",
       " ('Organization', 'NNP'),\n",
       " ('WHO', 'NNP'),\n",
       " ('specialized', 'VBD'),\n",
       " ('agency', 'NN'),\n",
       " ('United', 'NNP'),\n",
       " ('Nations', 'NNP'),\n",
       " ('responsible', 'JJ'),\n",
       " ('international', 'JJ'),\n",
       " ('public', 'JJ'),\n",
       " ('health', 'NN'),\n",
       " ('The', 'DT'),\n",
       " ('WHO', 'NNP'),\n",
       " ('Constitution', 'NNP'),\n",
       " ('state', 'NN'),\n",
       " ('main', 'JJ'),\n",
       " ('objective', 'JJ'),\n",
       " ('attainment', 'NN'),\n",
       " ('people', 'NNS'),\n",
       " ('highest', 'JJS'),\n",
       " ('possible', 'JJ'),\n",
       " ('level', 'NN'),\n",
       " ('health', 'NN'),\n",
       " ('Headquartered', 'NNP'),\n",
       " ('Geneva', 'NNP'),\n",
       " ('Switzerland', 'NNP'),\n",
       " ('six', 'CD'),\n",
       " ('regional', 'JJ'),\n",
       " ('office', 'NN'),\n",
       " ('field', 'NN'),\n",
       " ('office', 'NN'),\n",
       " ('worldwide', 'IN'),\n",
       " ('The', 'DT'),\n",
       " ('WHO', 'NNP'),\n",
       " ('established', 'VBD'),\n",
       " ('April', 'NNP'),\n",
       " ('The', 'DT'),\n",
       " ('first', 'JJ'),\n",
       " ('meeting', 'NN'),\n",
       " ('World', 'NNP'),\n",
       " ('Health', 'NNP'),\n",
       " ('Assembly', 'NNP'),\n",
       " ('WHA', 'NNP'),\n",
       " ('agency', 'NN'),\n",
       " ('governing', 'VBG'),\n",
       " ('body', 'NN'),\n",
       " ('took', 'VBD'),\n",
       " ('place', 'NN'),\n",
       " ('July', 'NNP'),\n",
       " ('year', 'NN'),\n",
       " ('The', 'DT'),\n",
       " ('WHO', 'NNP'),\n",
       " ('incorporated', 'VBD'),\n",
       " ('asset', 'NN'),\n",
       " ('personnel', 'NNS'),\n",
       " ('duty', 'NN'),\n",
       " ('League', 'NNP'),\n",
       " ('Nations', 'NNP'),\n",
       " ('Health', 'NNP'),\n",
       " ('Organization', 'NNP'),\n",
       " ('Office', 'NNP'),\n",
       " ('International', 'NNP'),\n",
       " ('dHygiène', 'NN'),\n",
       " ('Publique', 'NNP'),\n",
       " ('including', 'VBG'),\n",
       " ('International', 'NNP'),\n",
       " ('Classification', 'NNP'),\n",
       " ('Diseases', 'VBZ'),\n",
       " ('ICD', 'NNP'),\n",
       " ('Its', 'PRP$'),\n",
       " ('work', 'NN'),\n",
       " ('began', 'VBD'),\n",
       " ('earnest', 'JJ'),\n",
       " ('significant', 'JJ'),\n",
       " ('infusion', 'NN'),\n",
       " ('financial', 'JJ'),\n",
       " ('technical', 'JJ'),\n",
       " ('resource', 'NN')]"
      ]
     },
     "execution_count": 82,
     "metadata": {},
     "output_type": "execute_result"
    }
   ],
   "source": [
    "tagged"
   ]
  },
  {
   "cell_type": "markdown",
   "metadata": {},
   "source": [
    "# Converting emoji to text and text to emoji"
   ]
  },
  {
   "cell_type": "code",
   "execution_count": 6,
   "metadata": {},
   "outputs": [],
   "source": [
    "text = \"game is on 🔥 🔥\""
   ]
  },
  {
   "cell_type": "code",
   "execution_count": 5,
   "metadata": {},
   "outputs": [
    {
     "data": {
      "text/plain": [
       "'game is on :fire: :fire:'"
      ]
     },
     "execution_count": 5,
     "metadata": {},
     "output_type": "execute_result"
    }
   ],
   "source": [
    "emoji.demojize(text)"
   ]
  },
  {
   "cell_type": "code",
   "execution_count": 4,
   "metadata": {},
   "outputs": [
    {
     "data": {
      "text/plain": [
       "'game is on fire fire'"
      ]
     },
     "execution_count": 4,
     "metadata": {},
     "output_type": "execute_result"
    }
   ],
   "source": [
    "emoji.demojize(text, delimiters=(\"\", \"\"))"
   ]
  },
  {
   "cell_type": "code",
   "execution_count": 7,
   "metadata": {},
   "outputs": [
    {
     "name": "stdout",
     "output_type": "stream",
     "text": [
      "Python is 👍\n"
     ]
    }
   ],
   "source": [
    "print(emoji.emojize('Python is :thumbs_up:'))"
   ]
  },
  {
   "cell_type": "code",
   "execution_count": 10,
   "metadata": {},
   "outputs": [
    {
     "name": "stdout",
     "output_type": "stream",
     "text": [
      "Python is :thumbsup:\n",
      "Python is :thumbs_up:\n",
      "Python is fun ❤️\n",
      "Python is fun ❤️\n",
      "True\n"
     ]
    }
   ],
   "source": [
    "print(emoji.emojize('Python is :thumbsup:'))\n",
    "print(emoji.demojize('Python is 👍'))\n",
    "print(emoji.emojize(\"Python is fun :red_heart:\"))\n",
    "print(emoji.emojize(\"Python is fun :red_heart:\",variant=\"emoji_type\"))\n",
    "print(emoji.is_emoji(\"👍\"))"
   ]
  },
  {
   "cell_type": "code",
   "execution_count": null,
   "metadata": {},
   "outputs": [],
   "source": []
  }
 ],
 "metadata": {
  "kernelspec": {
   "display_name": "Python 3",
   "language": "python",
   "name": "python3"
  },
  "language_info": {
   "codemirror_mode": {
    "name": "ipython",
    "version": 3
   },
   "file_extension": ".py",
   "mimetype": "text/x-python",
   "name": "python",
   "nbconvert_exporter": "python",
   "pygments_lexer": "ipython3",
   "version": "3.8.3"
  }
 },
 "nbformat": 4,
 "nbformat_minor": 4
}
